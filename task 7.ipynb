{
 "cells": [
  {
   "cell_type": "markdown",
   "id": "16a599ef",
   "metadata": {},
   "source": [
    "# Yoshops\n",
    "## Data Science Internship \n",
    "## Task 7"
   ]
  },
  {
   "cell_type": "code",
   "execution_count": 1,
   "id": "e359c601",
   "metadata": {},
   "outputs": [],
   "source": [
    "# making imports\n",
    "import pandas as pd\n",
    "import requests\n",
    "from bs4 import BeautifulSoup"
   ]
  },
  {
   "cell_type": "code",
   "execution_count": 2,
   "id": "48f297a6",
   "metadata": {},
   "outputs": [],
   "source": [
    "# defining an URL to work on\n",
    "coll_url = 'https://www.collegesearch.in/engineering-colleges-india'"
   ]
  },
  {
   "cell_type": "code",
   "execution_count": 3,
   "id": "78bd1cb3",
   "metadata": {},
   "outputs": [],
   "source": [
    "# creating objects for URL\n",
    "req = requests.get(coll_url)\n",
    "soup = BeautifulSoup(req.content,'html5lib')"
   ]
  },
  {
   "cell_type": "code",
   "execution_count": 4,
   "id": "a9aeedb1",
   "metadata": {},
   "outputs": [
    {
     "data": {
      "text/plain": [
       "<h2 class=\"media-heading mg-0\">\n",
       "\n",
       "                                <a href=\"https://www.collegesearch.in/colleges/indian-institute-of-technology-iit-madras-chennai\" onclick=\"return setTrack(1031, 'organic',1, 'search_result');\" rel=\"noopener\" title=\"Indian Institute of Technology, Chennai\">Indian Institute of Technology, Chennai </a>\n",
       "                            </h2>"
      ]
     },
     "execution_count": 4,
     "metadata": {},
     "output_type": "execute_result"
    }
   ],
   "source": [
    "# getting colleges\n",
    "college = soup.find_all('h2', class_='media-heading mg-0')\n",
    "soup.find_all('h2', class_='media-heading mg-0')[0]"
   ]
  },
  {
   "cell_type": "code",
   "execution_count": 5,
   "id": "87d3e36e",
   "metadata": {
    "scrolled": false
   },
   "outputs": [
    {
     "data": {
      "text/plain": [
       "<dl class=\"dl-horizontal mg-0\">\n",
       "                            <!--Duration-->\n",
       "\n",
       "                                                            <dt>Duration: </dt>\n",
       "                                <dd>5 Years </dd>\n",
       "                                                        <!--Fees-->\n",
       "                                                            <dt>Total Fees: </dt>\n",
       "                                <dd> Rs 9,00,450/-</dd>\n",
       "                                                        <!--Affiliation-->\n",
       "                                                            <dt>Institute Type: </dt>\n",
       "                                <dd>Autonomous</dd>\n",
       "                                                                                </dl>"
      ]
     },
     "execution_count": 5,
     "metadata": {},
     "output_type": "execute_result"
    }
   ],
   "source": [
    "# getting college details\n",
    "details=soup.find_all('dl', class_='dl-horizontal mg-0')\n",
    "soup.find_all('dl', class_='dl-horizontal mg-0')[0]"
   ]
  },
  {
   "cell_type": "code",
   "execution_count": 6,
   "id": "394f5a91",
   "metadata": {},
   "outputs": [],
   "source": [
    "# creating a df for the fetched data\n",
    "data = pd.DataFrame({'clg':college,'details':details})"
   ]
  },
  {
   "cell_type": "code",
   "execution_count": null,
   "id": "9b57a311",
   "metadata": {
    "scrolled": true
   },
   "outputs": [],
   "source": [
    "# defining a function to fetch data from the URL\n",
    "for i in range(1,50):\n",
    "    coll_url='https://www.collegesearch.in/engineering-colleges-india'\n",
    "    req=requests.get(coll_url)\n",
    "    soup = BeautifulSoup(req.content,'html5lib')\n",
    "    \n",
    "    college=soup.find_all('h2', class_='media-heading mg-0')\n",
    "    details=soup.find_all('dl', class_='dl-horizontal mg-0')\n",
    "    \n",
    "    df=pd.DataFrame({'clg':college,'details':details})\n",
    "    data=data.append(df,ignore_index=True)"
   ]
  },
  {
   "cell_type": "code",
   "execution_count": 8,
   "id": "1517c03e",
   "metadata": {},
   "outputs": [
    {
     "data": {
      "text/plain": [
       "(1000, 2)"
      ]
     },
     "execution_count": 8,
     "metadata": {},
     "output_type": "execute_result"
    }
   ],
   "source": [
    "# checking the shape of the df\n",
    "data.shape"
   ]
  },
  {
   "cell_type": "code",
   "execution_count": 9,
   "id": "384bd67f",
   "metadata": {},
   "outputs": [],
   "source": [
    "# data preprocessing\n",
    "data['college_name']=data['clg'].astype(str).str.split('\\n',expand=True)[2].str.split('=',expand=True)[4]\n",
    "data['city']=data['college_name'].astype(str).str.split(',',expand=True)[2].str.split('</a>',expand=True)[0]\n",
    "data['Duration_years']=data['details'].astype(str).str.split('\\n',expand=True)[4].str.split('Years',expand=True)[0].str.split('<dd>',expand=True)[1]\n",
    "data['fees']=data['details'].astype(str).str.split('\\n',expand=True)[7].str.split('<dd>',expand=True)[1].str.split('</dd>',expand=True)[0]\n",
    "data['url']=data['clg'].astype(str).str.split('\\n',expand=True)[2].str.split('=',expand=True)[1]"
   ]
  },
  {
   "cell_type": "code",
   "execution_count": 10,
   "id": "d5546ff2",
   "metadata": {},
   "outputs": [],
   "source": [
    "# dropping the unnecessary columns\n",
    "data.drop(columns=['clg','details'], axis=1, inplace=True)"
   ]
  },
  {
   "cell_type": "code",
   "execution_count": 11,
   "id": "1576e64f",
   "metadata": {},
   "outputs": [],
   "source": [
    "# storing the dataframe into an Excel file\n",
    "data.to_excel('college_data.xlsx')"
   ]
  },
  {
   "cell_type": "markdown",
   "id": "3e7c83dd",
   "metadata": {},
   "source": [
    "## On entering 1, show colleges from Delhi, Mumbai, Kolkata and Chennai"
   ]
  },
  {
   "cell_type": "code",
   "execution_count": 12,
   "id": "1387880c",
   "metadata": {},
   "outputs": [],
   "source": [
    "Delhi = data[data['city'] == ' Delhi ']\n",
    "Mumbai = data[data['city'] == ' Mumbai ']\n",
    "Kolkata = data[data['city'] == ' Calicut ']\n",
    "Chennai = data[data['city'] == ' Chennai ']"
   ]
  },
  {
   "cell_type": "code",
   "execution_count": 13,
   "id": "a6998378",
   "metadata": {},
   "outputs": [
    {
     "data": {
      "text/html": [
       "<div>\n",
       "<style scoped>\n",
       "    .dataframe tbody tr th:only-of-type {\n",
       "        vertical-align: middle;\n",
       "    }\n",
       "\n",
       "    .dataframe tbody tr th {\n",
       "        vertical-align: top;\n",
       "    }\n",
       "\n",
       "    .dataframe thead th {\n",
       "        text-align: right;\n",
       "    }\n",
       "</style>\n",
       "<table border=\"1\" class=\"dataframe\">\n",
       "  <thead>\n",
       "    <tr style=\"text-align: right;\">\n",
       "      <th></th>\n",
       "      <th>college_name</th>\n",
       "      <th>city</th>\n",
       "      <th>Duration_years</th>\n",
       "      <th>fees</th>\n",
       "      <th>url</th>\n",
       "    </tr>\n",
       "  </thead>\n",
       "  <tbody>\n",
       "    <tr>\n",
       "      <th>5</th>\n",
       "      <td>\"Indian Institute of Technology, Delhi\"&gt;Indian...</td>\n",
       "      <td>Delhi</td>\n",
       "      <td>4</td>\n",
       "      <td>Rs 9,95,600/-</td>\n",
       "      <td>\"https://www.collegesearch.in/colleges/indian-...</td>\n",
       "    </tr>\n",
       "    <tr>\n",
       "      <th>15</th>\n",
       "      <td>\"Delhi Technological University (DTU), Delhi\"&gt;...</td>\n",
       "      <td>Delhi</td>\n",
       "      <td>4</td>\n",
       "      <td>Rs 9,31,400/-</td>\n",
       "      <td>\"https://www.collegesearch.in/university/delhi...</td>\n",
       "    </tr>\n",
       "    <tr>\n",
       "      <th>25</th>\n",
       "      <td>\"Indian Institute of Technology, Delhi\"&gt;Indian...</td>\n",
       "      <td>Delhi</td>\n",
       "      <td>4</td>\n",
       "      <td>Rs 9,95,600/-</td>\n",
       "      <td>\"https://www.collegesearch.in/colleges/indian-...</td>\n",
       "    </tr>\n",
       "    <tr>\n",
       "      <th>35</th>\n",
       "      <td>\"Delhi Technological University (DTU), Delhi\"&gt;...</td>\n",
       "      <td>Delhi</td>\n",
       "      <td>4</td>\n",
       "      <td>Rs 9,31,400/-</td>\n",
       "      <td>\"https://www.collegesearch.in/university/delhi...</td>\n",
       "    </tr>\n",
       "    <tr>\n",
       "      <th>45</th>\n",
       "      <td>\"Indian Institute of Technology, Delhi\"&gt;Indian...</td>\n",
       "      <td>Delhi</td>\n",
       "      <td>4</td>\n",
       "      <td>Rs 9,95,600/-</td>\n",
       "      <td>\"https://www.collegesearch.in/colleges/indian-...</td>\n",
       "    </tr>\n",
       "    <tr>\n",
       "      <th>...</th>\n",
       "      <td>...</td>\n",
       "      <td>...</td>\n",
       "      <td>...</td>\n",
       "      <td>...</td>\n",
       "      <td>...</td>\n",
       "    </tr>\n",
       "    <tr>\n",
       "      <th>955</th>\n",
       "      <td>\"Delhi Technological University (DTU), Delhi\"&gt;...</td>\n",
       "      <td>Delhi</td>\n",
       "      <td>4</td>\n",
       "      <td>Rs 9,31,400/-</td>\n",
       "      <td>\"https://www.collegesearch.in/university/delhi...</td>\n",
       "    </tr>\n",
       "    <tr>\n",
       "      <th>965</th>\n",
       "      <td>\"Indian Institute of Technology, Delhi\"&gt;Indian...</td>\n",
       "      <td>Delhi</td>\n",
       "      <td>4</td>\n",
       "      <td>Rs 9,95,600/-</td>\n",
       "      <td>\"https://www.collegesearch.in/colleges/indian-...</td>\n",
       "    </tr>\n",
       "    <tr>\n",
       "      <th>975</th>\n",
       "      <td>\"Delhi Technological University (DTU), Delhi\"&gt;...</td>\n",
       "      <td>Delhi</td>\n",
       "      <td>4</td>\n",
       "      <td>Rs 9,31,400/-</td>\n",
       "      <td>\"https://www.collegesearch.in/university/delhi...</td>\n",
       "    </tr>\n",
       "    <tr>\n",
       "      <th>985</th>\n",
       "      <td>\"Indian Institute of Technology, Delhi\"&gt;Indian...</td>\n",
       "      <td>Delhi</td>\n",
       "      <td>4</td>\n",
       "      <td>Rs 9,95,600/-</td>\n",
       "      <td>\"https://www.collegesearch.in/colleges/indian-...</td>\n",
       "    </tr>\n",
       "    <tr>\n",
       "      <th>995</th>\n",
       "      <td>\"Delhi Technological University (DTU), Delhi\"&gt;...</td>\n",
       "      <td>Delhi</td>\n",
       "      <td>4</td>\n",
       "      <td>Rs 9,31,400/-</td>\n",
       "      <td>\"https://www.collegesearch.in/university/delhi...</td>\n",
       "    </tr>\n",
       "  </tbody>\n",
       "</table>\n",
       "<p>100 rows × 5 columns</p>\n",
       "</div>"
      ],
      "text/plain": [
       "                                          college_name     city  \\\n",
       "5    \"Indian Institute of Technology, Delhi\">Indian...   Delhi    \n",
       "15   \"Delhi Technological University (DTU), Delhi\">...   Delhi    \n",
       "25   \"Indian Institute of Technology, Delhi\">Indian...   Delhi    \n",
       "35   \"Delhi Technological University (DTU), Delhi\">...   Delhi    \n",
       "45   \"Indian Institute of Technology, Delhi\">Indian...   Delhi    \n",
       "..                                                 ...      ...   \n",
       "955  \"Delhi Technological University (DTU), Delhi\">...   Delhi    \n",
       "965  \"Indian Institute of Technology, Delhi\">Indian...   Delhi    \n",
       "975  \"Delhi Technological University (DTU), Delhi\">...   Delhi    \n",
       "985  \"Indian Institute of Technology, Delhi\">Indian...   Delhi    \n",
       "995  \"Delhi Technological University (DTU), Delhi\">...   Delhi    \n",
       "\n",
       "    Duration_years            fees  \\\n",
       "5               4    Rs 9,95,600/-   \n",
       "15              4    Rs 9,31,400/-   \n",
       "25              4    Rs 9,95,600/-   \n",
       "35              4    Rs 9,31,400/-   \n",
       "45              4    Rs 9,95,600/-   \n",
       "..             ...             ...   \n",
       "955             4    Rs 9,31,400/-   \n",
       "965             4    Rs 9,95,600/-   \n",
       "975             4    Rs 9,31,400/-   \n",
       "985             4    Rs 9,95,600/-   \n",
       "995             4    Rs 9,31,400/-   \n",
       "\n",
       "                                                   url  \n",
       "5    \"https://www.collegesearch.in/colleges/indian-...  \n",
       "15   \"https://www.collegesearch.in/university/delhi...  \n",
       "25   \"https://www.collegesearch.in/colleges/indian-...  \n",
       "35   \"https://www.collegesearch.in/university/delhi...  \n",
       "45   \"https://www.collegesearch.in/colleges/indian-...  \n",
       "..                                                 ...  \n",
       "955  \"https://www.collegesearch.in/university/delhi...  \n",
       "965  \"https://www.collegesearch.in/colleges/indian-...  \n",
       "975  \"https://www.collegesearch.in/university/delhi...  \n",
       "985  \"https://www.collegesearch.in/colleges/indian-...  \n",
       "995  \"https://www.collegesearch.in/university/delhi...  \n",
       "\n",
       "[100 rows x 5 columns]"
      ]
     },
     "execution_count": 13,
     "metadata": {},
     "output_type": "execute_result"
    }
   ],
   "source": [
    "Delhi"
   ]
  },
  {
   "cell_type": "code",
   "execution_count": 14,
   "id": "3621ff7d",
   "metadata": {},
   "outputs": [],
   "source": [
    "# defining a function to achieve the same\n",
    "def college_by_city(inp):\n",
    "    if inp==1:\n",
    "        print(Delhi['college_name'],Mumbai['college_name'],Kolkata['college_name'],Chennai['college_name'])\n",
    "    else:\n",
    "        pass"
   ]
  },
  {
   "cell_type": "code",
   "execution_count": 15,
   "id": "3391ee41",
   "metadata": {},
   "outputs": [
    {
     "name": "stdout",
     "output_type": "stream",
     "text": [
      "Enter 1 to see colleges...1\n",
      "5      \"Indian Institute of Technology, Delhi\">Indian...\n",
      "15     \"Delhi Technological University (DTU), Delhi\">...\n",
      "25     \"Indian Institute of Technology, Delhi\">Indian...\n",
      "35     \"Delhi Technological University (DTU), Delhi\">...\n",
      "45     \"Indian Institute of Technology, Delhi\">Indian...\n",
      "                             ...                        \n",
      "955    \"Delhi Technological University (DTU), Delhi\">...\n",
      "965    \"Indian Institute of Technology, Delhi\">Indian...\n",
      "975    \"Delhi Technological University (DTU), Delhi\">...\n",
      "985    \"Indian Institute of Technology, Delhi\">Indian...\n",
      "995    \"Delhi Technological University (DTU), Delhi\">...\n",
      "Name: college_name, Length: 100, dtype: object 4      \"Indian Institute of Technology Bombay, Mumbai...\n",
      "7      \"Institute of Chemical Technology (ICT), Mumba...\n",
      "24     \"Indian Institute of Technology Bombay, Mumbai...\n",
      "27     \"Institute of Chemical Technology (ICT), Mumba...\n",
      "44     \"Indian Institute of Technology Bombay, Mumbai...\n",
      "                             ...                        \n",
      "947    \"Institute of Chemical Technology (ICT), Mumba...\n",
      "964    \"Indian Institute of Technology Bombay, Mumbai...\n",
      "967    \"Institute of Chemical Technology (ICT), Mumba...\n",
      "984    \"Indian Institute of Technology Bombay, Mumbai...\n",
      "987    \"Institute of Chemical Technology (ICT), Mumba...\n",
      "Name: college_name, Length: 100, dtype: object 16     \"National Institute of Technology (NIT), Calic...\n",
      "36     \"National Institute of Technology (NIT), Calic...\n",
      "56     \"National Institute of Technology (NIT), Calic...\n",
      "76     \"National Institute of Technology (NIT), Calic...\n",
      "96     \"National Institute of Technology (NIT), Calic...\n",
      "116    \"National Institute of Technology (NIT), Calic...\n",
      "136    \"National Institute of Technology (NIT), Calic...\n",
      "156    \"National Institute of Technology (NIT), Calic...\n",
      "176    \"National Institute of Technology (NIT), Calic...\n",
      "196    \"National Institute of Technology (NIT), Calic...\n",
      "216    \"National Institute of Technology (NIT), Calic...\n",
      "236    \"National Institute of Technology (NIT), Calic...\n",
      "256    \"National Institute of Technology (NIT), Calic...\n",
      "276    \"National Institute of Technology (NIT), Calic...\n",
      "296    \"National Institute of Technology (NIT), Calic...\n",
      "316    \"National Institute of Technology (NIT), Calic...\n",
      "336    \"National Institute of Technology (NIT), Calic...\n",
      "356    \"National Institute of Technology (NIT), Calic...\n",
      "376    \"National Institute of Technology (NIT), Calic...\n",
      "396    \"National Institute of Technology (NIT), Calic...\n",
      "416    \"National Institute of Technology (NIT), Calic...\n",
      "436    \"National Institute of Technology (NIT), Calic...\n",
      "456    \"National Institute of Technology (NIT), Calic...\n",
      "476    \"National Institute of Technology (NIT), Calic...\n",
      "496    \"National Institute of Technology (NIT), Calic...\n",
      "516    \"National Institute of Technology (NIT), Calic...\n",
      "536    \"National Institute of Technology (NIT), Calic...\n",
      "556    \"National Institute of Technology (NIT), Calic...\n",
      "576    \"National Institute of Technology (NIT), Calic...\n",
      "596    \"National Institute of Technology (NIT), Calic...\n",
      "616    \"National Institute of Technology (NIT), Calic...\n",
      "636    \"National Institute of Technology (NIT), Calic...\n",
      "656    \"National Institute of Technology (NIT), Calic...\n",
      "676    \"National Institute of Technology (NIT), Calic...\n",
      "696    \"National Institute of Technology (NIT), Calic...\n",
      "716    \"National Institute of Technology (NIT), Calic...\n",
      "736    \"National Institute of Technology (NIT), Calic...\n",
      "756    \"National Institute of Technology (NIT), Calic...\n",
      "776    \"National Institute of Technology (NIT), Calic...\n",
      "796    \"National Institute of Technology (NIT), Calic...\n",
      "816    \"National Institute of Technology (NIT), Calic...\n",
      "836    \"National Institute of Technology (NIT), Calic...\n",
      "856    \"National Institute of Technology (NIT), Calic...\n",
      "876    \"National Institute of Technology (NIT), Calic...\n",
      "896    \"National Institute of Technology (NIT), Calic...\n",
      "916    \"National Institute of Technology (NIT), Calic...\n",
      "936    \"National Institute of Technology (NIT), Calic...\n",
      "956    \"National Institute of Technology (NIT), Calic...\n",
      "976    \"National Institute of Technology (NIT), Calic...\n",
      "996    \"National Institute of Technology (NIT), Calic...\n",
      "Name: college_name, dtype: object 0      \"Indian Institute of Technology, Chennai\">Indi...\n",
      "20     \"Indian Institute of Technology, Chennai\">Indi...\n",
      "40     \"Indian Institute of Technology, Chennai\">Indi...\n",
      "60     \"Indian Institute of Technology, Chennai\">Indi...\n",
      "80     \"Indian Institute of Technology, Chennai\">Indi...\n",
      "100    \"Indian Institute of Technology, Chennai\">Indi...\n",
      "120    \"Indian Institute of Technology, Chennai\">Indi...\n",
      "140    \"Indian Institute of Technology, Chennai\">Indi...\n",
      "160    \"Indian Institute of Technology, Chennai\">Indi...\n",
      "180    \"Indian Institute of Technology, Chennai\">Indi...\n",
      "200    \"Indian Institute of Technology, Chennai\">Indi...\n",
      "220    \"Indian Institute of Technology, Chennai\">Indi...\n",
      "240    \"Indian Institute of Technology, Chennai\">Indi...\n",
      "260    \"Indian Institute of Technology, Chennai\">Indi...\n",
      "280    \"Indian Institute of Technology, Chennai\">Indi...\n",
      "300    \"Indian Institute of Technology, Chennai\">Indi...\n",
      "320    \"Indian Institute of Technology, Chennai\">Indi...\n",
      "340    \"Indian Institute of Technology, Chennai\">Indi...\n",
      "360    \"Indian Institute of Technology, Chennai\">Indi...\n",
      "380    \"Indian Institute of Technology, Chennai\">Indi...\n",
      "400    \"Indian Institute of Technology, Chennai\">Indi...\n",
      "420    \"Indian Institute of Technology, Chennai\">Indi...\n",
      "440    \"Indian Institute of Technology, Chennai\">Indi...\n",
      "460    \"Indian Institute of Technology, Chennai\">Indi...\n",
      "480    \"Indian Institute of Technology, Chennai\">Indi...\n",
      "500    \"Indian Institute of Technology, Chennai\">Indi...\n",
      "520    \"Indian Institute of Technology, Chennai\">Indi...\n",
      "540    \"Indian Institute of Technology, Chennai\">Indi...\n",
      "560    \"Indian Institute of Technology, Chennai\">Indi...\n",
      "580    \"Indian Institute of Technology, Chennai\">Indi...\n",
      "600    \"Indian Institute of Technology, Chennai\">Indi...\n",
      "620    \"Indian Institute of Technology, Chennai\">Indi...\n",
      "640    \"Indian Institute of Technology, Chennai\">Indi...\n",
      "660    \"Indian Institute of Technology, Chennai\">Indi...\n",
      "680    \"Indian Institute of Technology, Chennai\">Indi...\n",
      "700    \"Indian Institute of Technology, Chennai\">Indi...\n",
      "720    \"Indian Institute of Technology, Chennai\">Indi...\n",
      "740    \"Indian Institute of Technology, Chennai\">Indi...\n",
      "760    \"Indian Institute of Technology, Chennai\">Indi...\n",
      "780    \"Indian Institute of Technology, Chennai\">Indi...\n",
      "800    \"Indian Institute of Technology, Chennai\">Indi...\n",
      "820    \"Indian Institute of Technology, Chennai\">Indi...\n",
      "840    \"Indian Institute of Technology, Chennai\">Indi...\n",
      "860    \"Indian Institute of Technology, Chennai\">Indi...\n",
      "880    \"Indian Institute of Technology, Chennai\">Indi...\n",
      "900    \"Indian Institute of Technology, Chennai\">Indi...\n",
      "920    \"Indian Institute of Technology, Chennai\">Indi...\n",
      "940    \"Indian Institute of Technology, Chennai\">Indi...\n",
      "960    \"Indian Institute of Technology, Chennai\">Indi...\n",
      "980    \"Indian Institute of Technology, Chennai\">Indi...\n",
      "Name: college_name, dtype: object\n"
     ]
    }
   ],
   "source": [
    "# pressing 1\n",
    "inp = int(input('Enter 1 to see colleges...'))\n",
    "college_by_city(inp)"
   ]
  },
  {
   "cell_type": "markdown",
   "id": "dd7b6e46",
   "metadata": {},
   "source": [
    "## On entering 2, show colleges in capital of states"
   ]
  },
  {
   "cell_type": "code",
   "execution_count": 16,
   "id": "313ffe72",
   "metadata": {},
   "outputs": [],
   "source": [
    "# defining a function to achieve the same\n",
    "def college_by_capital(inp_1):\n",
    "    if inp_1==2:\n",
    "        print(Mumbai['college_name'],Kolkata['college_name'],Chennai['college_name'])\n",
    "    else:\n",
    "        pass"
   ]
  },
  {
   "cell_type": "code",
   "execution_count": 17,
   "id": "4f695785",
   "metadata": {},
   "outputs": [
    {
     "name": "stdout",
     "output_type": "stream",
     "text": [
      "Enter 2 to see colleges...2\n",
      "4      \"Indian Institute of Technology Bombay, Mumbai...\n",
      "7      \"Institute of Chemical Technology (ICT), Mumba...\n",
      "24     \"Indian Institute of Technology Bombay, Mumbai...\n",
      "27     \"Institute of Chemical Technology (ICT), Mumba...\n",
      "44     \"Indian Institute of Technology Bombay, Mumbai...\n",
      "                             ...                        \n",
      "947    \"Institute of Chemical Technology (ICT), Mumba...\n",
      "964    \"Indian Institute of Technology Bombay, Mumbai...\n",
      "967    \"Institute of Chemical Technology (ICT), Mumba...\n",
      "984    \"Indian Institute of Technology Bombay, Mumbai...\n",
      "987    \"Institute of Chemical Technology (ICT), Mumba...\n",
      "Name: college_name, Length: 100, dtype: object 16     \"National Institute of Technology (NIT), Calic...\n",
      "36     \"National Institute of Technology (NIT), Calic...\n",
      "56     \"National Institute of Technology (NIT), Calic...\n",
      "76     \"National Institute of Technology (NIT), Calic...\n",
      "96     \"National Institute of Technology (NIT), Calic...\n",
      "116    \"National Institute of Technology (NIT), Calic...\n",
      "136    \"National Institute of Technology (NIT), Calic...\n",
      "156    \"National Institute of Technology (NIT), Calic...\n",
      "176    \"National Institute of Technology (NIT), Calic...\n",
      "196    \"National Institute of Technology (NIT), Calic...\n",
      "216    \"National Institute of Technology (NIT), Calic...\n",
      "236    \"National Institute of Technology (NIT), Calic...\n",
      "256    \"National Institute of Technology (NIT), Calic...\n",
      "276    \"National Institute of Technology (NIT), Calic...\n",
      "296    \"National Institute of Technology (NIT), Calic...\n",
      "316    \"National Institute of Technology (NIT), Calic...\n",
      "336    \"National Institute of Technology (NIT), Calic...\n",
      "356    \"National Institute of Technology (NIT), Calic...\n",
      "376    \"National Institute of Technology (NIT), Calic...\n",
      "396    \"National Institute of Technology (NIT), Calic...\n",
      "416    \"National Institute of Technology (NIT), Calic...\n",
      "436    \"National Institute of Technology (NIT), Calic...\n",
      "456    \"National Institute of Technology (NIT), Calic...\n",
      "476    \"National Institute of Technology (NIT), Calic...\n",
      "496    \"National Institute of Technology (NIT), Calic...\n",
      "516    \"National Institute of Technology (NIT), Calic...\n",
      "536    \"National Institute of Technology (NIT), Calic...\n",
      "556    \"National Institute of Technology (NIT), Calic...\n",
      "576    \"National Institute of Technology (NIT), Calic...\n",
      "596    \"National Institute of Technology (NIT), Calic...\n",
      "616    \"National Institute of Technology (NIT), Calic...\n",
      "636    \"National Institute of Technology (NIT), Calic...\n",
      "656    \"National Institute of Technology (NIT), Calic...\n",
      "676    \"National Institute of Technology (NIT), Calic...\n",
      "696    \"National Institute of Technology (NIT), Calic...\n",
      "716    \"National Institute of Technology (NIT), Calic...\n",
      "736    \"National Institute of Technology (NIT), Calic...\n",
      "756    \"National Institute of Technology (NIT), Calic...\n",
      "776    \"National Institute of Technology (NIT), Calic...\n",
      "796    \"National Institute of Technology (NIT), Calic...\n",
      "816    \"National Institute of Technology (NIT), Calic...\n",
      "836    \"National Institute of Technology (NIT), Calic...\n",
      "856    \"National Institute of Technology (NIT), Calic...\n",
      "876    \"National Institute of Technology (NIT), Calic...\n",
      "896    \"National Institute of Technology (NIT), Calic...\n",
      "916    \"National Institute of Technology (NIT), Calic...\n",
      "936    \"National Institute of Technology (NIT), Calic...\n",
      "956    \"National Institute of Technology (NIT), Calic...\n",
      "976    \"National Institute of Technology (NIT), Calic...\n",
      "996    \"National Institute of Technology (NIT), Calic...\n",
      "Name: college_name, dtype: object 0      \"Indian Institute of Technology, Chennai\">Indi...\n",
      "20     \"Indian Institute of Technology, Chennai\">Indi...\n",
      "40     \"Indian Institute of Technology, Chennai\">Indi...\n",
      "60     \"Indian Institute of Technology, Chennai\">Indi...\n",
      "80     \"Indian Institute of Technology, Chennai\">Indi...\n",
      "100    \"Indian Institute of Technology, Chennai\">Indi...\n",
      "120    \"Indian Institute of Technology, Chennai\">Indi...\n",
      "140    \"Indian Institute of Technology, Chennai\">Indi...\n",
      "160    \"Indian Institute of Technology, Chennai\">Indi...\n",
      "180    \"Indian Institute of Technology, Chennai\">Indi...\n",
      "200    \"Indian Institute of Technology, Chennai\">Indi...\n",
      "220    \"Indian Institute of Technology, Chennai\">Indi...\n",
      "240    \"Indian Institute of Technology, Chennai\">Indi...\n",
      "260    \"Indian Institute of Technology, Chennai\">Indi...\n",
      "280    \"Indian Institute of Technology, Chennai\">Indi...\n",
      "300    \"Indian Institute of Technology, Chennai\">Indi...\n",
      "320    \"Indian Institute of Technology, Chennai\">Indi...\n",
      "340    \"Indian Institute of Technology, Chennai\">Indi...\n",
      "360    \"Indian Institute of Technology, Chennai\">Indi...\n",
      "380    \"Indian Institute of Technology, Chennai\">Indi...\n",
      "400    \"Indian Institute of Technology, Chennai\">Indi...\n",
      "420    \"Indian Institute of Technology, Chennai\">Indi...\n",
      "440    \"Indian Institute of Technology, Chennai\">Indi...\n",
      "460    \"Indian Institute of Technology, Chennai\">Indi...\n",
      "480    \"Indian Institute of Technology, Chennai\">Indi...\n",
      "500    \"Indian Institute of Technology, Chennai\">Indi...\n",
      "520    \"Indian Institute of Technology, Chennai\">Indi...\n",
      "540    \"Indian Institute of Technology, Chennai\">Indi...\n",
      "560    \"Indian Institute of Technology, Chennai\">Indi...\n",
      "580    \"Indian Institute of Technology, Chennai\">Indi...\n",
      "600    \"Indian Institute of Technology, Chennai\">Indi...\n",
      "620    \"Indian Institute of Technology, Chennai\">Indi...\n",
      "640    \"Indian Institute of Technology, Chennai\">Indi...\n",
      "660    \"Indian Institute of Technology, Chennai\">Indi...\n",
      "680    \"Indian Institute of Technology, Chennai\">Indi...\n",
      "700    \"Indian Institute of Technology, Chennai\">Indi...\n",
      "720    \"Indian Institute of Technology, Chennai\">Indi...\n",
      "740    \"Indian Institute of Technology, Chennai\">Indi...\n",
      "760    \"Indian Institute of Technology, Chennai\">Indi...\n",
      "780    \"Indian Institute of Technology, Chennai\">Indi...\n",
      "800    \"Indian Institute of Technology, Chennai\">Indi...\n",
      "820    \"Indian Institute of Technology, Chennai\">Indi...\n",
      "840    \"Indian Institute of Technology, Chennai\">Indi...\n",
      "860    \"Indian Institute of Technology, Chennai\">Indi...\n",
      "880    \"Indian Institute of Technology, Chennai\">Indi...\n",
      "900    \"Indian Institute of Technology, Chennai\">Indi...\n",
      "920    \"Indian Institute of Technology, Chennai\">Indi...\n",
      "940    \"Indian Institute of Technology, Chennai\">Indi...\n",
      "960    \"Indian Institute of Technology, Chennai\">Indi...\n",
      "980    \"Indian Institute of Technology, Chennai\">Indi...\n",
      "Name: college_name, dtype: object\n"
     ]
    }
   ],
   "source": [
    "#  pressing 2\n",
    "inp_1 = int(input('Enter 2 to see colleges...'))\n",
    "college_by_capital(inp_1)"
   ]
  },
  {
   "cell_type": "markdown",
   "id": "fcce7782",
   "metadata": {},
   "source": [
    "## On entering 3, show all colleges"
   ]
  },
  {
   "cell_type": "code",
   "execution_count": 18,
   "id": "3624c5d8",
   "metadata": {},
   "outputs": [],
   "source": [
    "# defining a fucntion to achieve the same\n",
    "def all_college(inp_2):\n",
    "    if inp_2==3:\n",
    "        print(data['college_name'])\n",
    "    else:\n",
    "        pass"
   ]
  },
  {
   "cell_type": "code",
   "execution_count": 19,
   "id": "28b3cbff",
   "metadata": {},
   "outputs": [
    {
     "name": "stdout",
     "output_type": "stream",
     "text": [
      "Enter 3 to see colleges...3\n",
      "0      \"Indian Institute of Technology, Chennai\">Indi...\n",
      "1      \"Indian Institute of Technology (IIT), Kanpur\"...\n",
      "2      \"Indian Institute of Technology (IIT), Roorkee...\n",
      "3      \"Indian Institute of Technology (IIT), Kharagp...\n",
      "4      \"Indian Institute of Technology Bombay, Mumbai...\n",
      "                             ...                        \n",
      "995    \"Delhi Technological University (DTU), Delhi\">...\n",
      "996    \"National Institute of Technology (NIT), Calic...\n",
      "997    \"JNTUH College of Engineering (JNTUH CE), Hyde...\n",
      "998    \"National Institute of Technology (NIT) - Sura...\n",
      "999    \"Manipal University - Manipal Academy of Highe...\n",
      "Name: college_name, Length: 1000, dtype: object\n"
     ]
    }
   ],
   "source": [
    "# pressing 3\n",
    "inp_2 = int(input('Enter 3 to see colleges...'))\n",
    "all_college(inp_2)"
   ]
  }
 ],
 "metadata": {
  "kernelspec": {
   "display_name": "Python 3 (ipykernel)",
   "language": "python",
   "name": "python3"
  },
  "language_info": {
   "codemirror_mode": {
    "name": "ipython",
    "version": 3
   },
   "file_extension": ".py",
   "mimetype": "text/x-python",
   "name": "python",
   "nbconvert_exporter": "python",
   "pygments_lexer": "ipython3",
   "version": "3.9.12"
  }
 },
 "nbformat": 4,
 "nbformat_minor": 5
}
