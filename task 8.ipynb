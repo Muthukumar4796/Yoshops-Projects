{
 "cells": [
  {
   "cell_type": "markdown",
   "id": "301347f0",
   "metadata": {
    "id": "301347f0"
   },
   "source": [
    "## Task 8: Ambur Biryani Billing System\n"
   ]
  },
  {
   "cell_type": "code",
   "execution_count": 1,
   "id": "0c3e2415",
   "metadata": {
    "id": "0c3e2415"
   },
   "outputs": [],
   "source": [
    "# importing libraries\n",
    "import pandas as pd\n",
    "import matplotlib.pyplot as plt\n",
    "import numpy as np"
   ]
  },
  {
   "cell_type": "code",
   "execution_count": 2,
   "id": "bf1a27e2",
   "metadata": {
    "id": "bf1a27e2"
   },
   "outputs": [],
   "source": [
    "# details for generating a bill\n",
    "name_person = 'Name'\n",
    "phone_no = 'Contact Number'\n",
    "food_item_no = 'Food Item No'\n",
    "b_name = 'Biryani Name'\n",
    "Quantity_biryani = 'Quantity'"
   ]
  },
  {
   "cell_type": "code",
   "execution_count": 3,
   "id": "4ff0c923",
   "metadata": {
    "id": "4ff0c923"
   },
   "outputs": [],
   "source": [
    "# defining a function for generating a bill\n",
    "def biryani_billing_system(name,contact,food_id,biryani_name,qty,cost):\n",
    "    print('-' * 60)\n",
    "    print('\\t\\tYOSHOPS AMBUR BIRYANI\\t\\t')\n",
    "    print('-' * 60)\n",
    "    print(f\"{name_person.upper()}\\t\\t\\t\\t\\t{name}\")\n",
    "    print(' ' * 60)\n",
    "    print(f\"{phone_no.upper()}\\t\\t\\t\\t{contact}\")\n",
    "    print(' ' * 60)\n",
    "    print(f\"{food_item_no.upper()}\\t\\t\\t\\t{food_id}\")\n",
    "    print(' ' * 60)\n",
    "    print(f\"{b_name.upper()}\\t\\t\\t\\t{biryani_name}\")\n",
    "    print(' ' * 60)\n",
    "    print(f\"{Quantity_biryani.upper()}\\t\\t\\t\\t{qty}\")\n",
    "    print(' ' * 60)\n",
    "    print('-' * 60)\n",
    "    print(f'TOTAL\\t\\t\\t\\t\\t{cost}')\n",
    "    print('\\n')"
   ]
  },
  {
   "cell_type": "code",
   "execution_count": 4,
   "id": "365d0eec",
   "metadata": {
    "colab": {
     "base_uri": "https://localhost:8080/"
    },
    "id": "365d0eec",
    "outputId": "8e4c1fa7-0e2a-4eb4-c1cf-65746a1a6ddc"
   },
   "outputs": [
    {
     "name": "stdout",
     "output_type": "stream",
     "text": [
      "Enter your Name : viknesh\n",
      "Enter Contact No : 1234567891\n",
      "Enter Food Item No : 5\n",
      "------------------------------------------------------------\n",
      "\t\tYOSHOPS AMBUR BIRYANI\t\t\n",
      "------------------------------------------------------------\n",
      "NAME\t\t\t\t\tviknesh\n",
      "                                                            \n",
      "CONTACT NUMBER\t\t\t\t1234567891\n",
      "                                                            \n",
      "FOOD ITEM NO\t\t\t\t5\n",
      "                                                            \n",
      "BIRYANI NAME\t\t\t\tKushka\n",
      "                                                            \n",
      "QUANTITY\t\t\t\t500 g\n",
      "                                                            \n",
      "------------------------------------------------------------\n",
      "TOTAL\t\t\t\t\t70.0\n",
      "\n",
      "\n"
     ]
    }
   ],
   "source": [
    "# getting input\n",
    "name=input('Enter your Name : ')\n",
    "contact=int(input('Enter Contact No : '))\n",
    "food_id=int(input('Enter Food Item No : '))\n",
    "if food_id == 1:\n",
    "    biryani_name = 'Chicken Biryani'\n",
    "    qty = '1 kg'\n",
    "    cost = 170.00\n",
    "    mybill = biryani_billing_system(name,contact,food_id,biryani_name,qty,cost)\n",
    "elif food_id == 2:\n",
    "    biryani_name = 'Chicken Biryani'\n",
    "    qty = '500 g'\n",
    "    cost = 120.00\n",
    "    mybill = biryani_billing_system(name,contact,food_id,biryani_name,qty,cost)\n",
    "elif food_id == 3:\n",
    "    biryani_name = 'Chicken Biryani'\n",
    "    qty = '250 g'\n",
    "    cost = 80.00\n",
    "    mybill = biryani_billing_system(name,contact,food_id,biryani_name,qty,cost)\n",
    "elif food_id == 4:\n",
    "    biryani_name = 'Kushka'\n",
    "    qty = '1 Kg'\n",
    "    cost = 110.00\n",
    "    mybill = biryani_billing_system(name,contact,food_id,biryani_name,qty,cost)\n",
    "elif food_id == 5:\n",
    "    biryani_name = 'Kushka'\n",
    "    qty = '500 g'\n",
    "    cost = 70.00\n",
    "    mybill = biryani_billing_system(name,contact,food_id,biryani_name,qty,cost)\n",
    "elif food_id == 6:\n",
    "    biryani_name = 'Kushka'\n",
    "    qty = '250 g'\n",
    "    cost = 50.00\n",
    "    mybill = biryani_billing_system(name,contact,food_id,biryani_name,qty,cost)\n",
    "elif food_id == 7:\n",
    "    biryani_name = 'Egg Biryani'\n",
    "    qty = '1 Kg'\n",
    "    cost = 120.00\n",
    "    mybill = biryani_billing_system(name,contact,food_id,biryani_name,qty,cost)\n",
    "elif food_id == 8:\n",
    "    biryani_name = 'Egg Biryani'\n",
    "    qty = '500 g'\n",
    "    cost = 80.00\n",
    "    mybill = biryani_billing_system(name,contact,food_id,biryani_name,qty,cost)\n",
    "elif food_id == 9:\n",
    "    biryani_name = 'Mutton Biryani'\n",
    "    qty = '1 kg'\n",
    "    cost = 260.00\n",
    "    mybill = biryani_billing_system(name,contact,food_id,biryani_name,qty,cost)\n",
    "elif food_id == 10:\n",
    "    biryani_name = 'Mutton Biryani'\n",
    "    qty = '500 kg'\n",
    "    cost = 190.00\n",
    "    mybill = biryani_billing_system(name,contact,food_id,biryani_name,qty,cost)\n",
    "else:\n",
    "    print('Invalid Item Please Enter Correct Food ID')"
   ]
  },
  {
   "cell_type": "code",
   "execution_count": null,
   "id": "a617d7ea",
   "metadata": {},
   "outputs": [],
   "source": []
  }
 ],
 "metadata": {
  "colab": {
   "provenance": []
  },
  "kernelspec": {
   "display_name": "Python 3 (ipykernel)",
   "language": "python",
   "name": "python3"
  },
  "language_info": {
   "codemirror_mode": {
    "name": "ipython",
    "version": 3
   },
   "file_extension": ".py",
   "mimetype": "text/x-python",
   "name": "python",
   "nbconvert_exporter": "python",
   "pygments_lexer": "ipython3",
   "version": "3.9.12"
  }
 },
 "nbformat": 4,
 "nbformat_minor": 5
}
